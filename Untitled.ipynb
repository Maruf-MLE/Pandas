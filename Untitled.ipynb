{
 "cells": [
  {
   "cell_type": "code",
   "execution_count": null,
   "id": "0fbed075-771b-4490-995e-89017c217fae",
   "metadata": {},
   "outputs": [],
   "source": []
  },
  {
   "cell_type": "code",
   "execution_count": null,
   "id": "911ddb83-1a5c-4b52-8e3a-e62f75ad17f4",
   "metadata": {},
   "outputs": [],
   "source": [
    "import pandas as pd\n",
    "import numpy as np\n",
    "\n",
    "from sklearn.linear_model import LinearRegression"
   ]
  },
  {
   "cell_type": "code",
   "execution_count": null,
   "id": "e6c0b023-4296-4603-840d-ae57cb6350a5",
   "metadata": {},
   "outputs": [],
   "source": []
  },
  {
   "cell_type": "code",
   "execution_count": null,
   "id": "0d3d2a83-9b33-4343-b22d-de98df9135ca",
   "metadata": {},
   "outputs": [],
   "source": [
    "x=np.array([1,2,3,4,5,6]).reshape(-1,1)\n",
    "y=np.array([2,4,8,8,10,9])"
   ]
  },
  {
   "cell_type": "code",
   "execution_count": null,
   "id": "1d1c052f-da6a-436b-9aea-c1303a9eb465",
   "metadata": {},
   "outputs": [],
   "source": []
  },
  {
   "cell_type": "code",
   "execution_count": null,
   "id": "55fbfcee-ffc6-4fe2-947a-3ab14e1831fa",
   "metadata": {},
   "outputs": [],
   "source": [
    "model=LinearRegression()\n",
    "\n",
    "model.fit(x,y)   #(y=mx+c) linear regression formula\n",
    "\n",
    "\n",
    "m=model.coef_[0]   # value of m\n",
    "\n",
    "c=model.intercept_  # value of c"
   ]
  },
  {
   "cell_type": "code",
   "execution_count": null,
   "id": "ca57ecf4-4a88-4ebe-8751-894675df1520",
   "metadata": {},
   "outputs": [],
   "source": []
  },
  {
   "cell_type": "code",
   "execution_count": null,
   "id": "7b301ba2-f515-4e86-abf8-ab5356b2cb60",
   "metadata": {},
   "outputs": [],
   "source": [
    "future=m*50+c   #How to work linear regression\n",
    "future\n",
    "\n",
    "model.predict([[50]])  #shortcut the linear regression"
   ]
  },
  {
   "cell_type": "code",
   "execution_count": null,
   "id": "59566b70-cf73-481d-88c4-4e118dfc52f8",
   "metadata": {},
   "outputs": [],
   "source": []
  },
  {
   "cell_type": "code",
   "execution_count": null,
   "id": "7ba5a666-d323-4c5e-8bf2-e7aca4ca89bb",
   "metadata": {},
   "outputs": [],
   "source": [
    "df=pd.DataFrame({'X Value':x.ravel(),'Y value':y})\n",
    "df['Predicted_y']=model.predict(x)\n",
    "df.head()"
   ]
  },
  {
   "cell_type": "code",
   "execution_count": null,
   "id": "6ba5ee30-3788-4059-99d8-d34670d7f064",
   "metadata": {},
   "outputs": [],
   "source": [
    "#Lose and cost funtion"
   ]
  },
  {
   "cell_type": "code",
   "execution_count": null,
   "id": "b384087c-fe0e-4fce-8097-78c51cb56ca4",
   "metadata": {},
   "outputs": [],
   "source": [
    "\n",
    "\n",
    "df['lose']=df['Y value']-df['Predicted_y']\n",
    "df"
   ]
  },
  {
   "cell_type": "code",
   "execution_count": null,
   "id": "0806a286-65fa-4709-be89-0782178eebd5",
   "metadata": {},
   "outputs": [],
   "source": []
  },
  {
   "cell_type": "code",
   "execution_count": null,
   "id": "2b388806-730f-47f8-a6a4-306c21ffa8c8",
   "metadata": {},
   "outputs": [],
   "source": [
    "#MSE and MAE\n",
    "from sklearn.metrics import mean_squared_error,mean_absolute_error"
   ]
  },
  {
   "cell_type": "code",
   "execution_count": null,
   "id": "02f676c7-8dfa-4d7b-82e9-5bb0dc6589f8",
   "metadata": {},
   "outputs": [],
   "source": []
  },
  {
   "cell_type": "code",
   "execution_count": 76,
   "id": "1eb56fc9-8ffb-4bd4-a418-ac9594575f7b",
   "metadata": {},
   "outputs": [
    {
     "data": {
      "text/plain": [
       "1.4507936507936516"
      ]
     },
     "execution_count": 76,
     "metadata": {},
     "output_type": "execute_result"
    }
   ],
   "source": [
    "mse=mean_squared_error(df['Y value'],df['Predicted_y'])\n",
    "mse"
   ]
  },
  {
   "cell_type": "code",
   "execution_count": 77,
   "id": "e7605e44-a53f-4c52-a803-4ce33ca044d0",
   "metadata": {},
   "outputs": [
    {
     "data": {
      "text/plain": [
       "1.0761904761904764"
      ]
     },
     "execution_count": 77,
     "metadata": {},
     "output_type": "execute_result"
    }
   ],
   "source": [
    "mae=mean_absolute_error(df['Y value'],df['Predicted_y'])\n",
    "mae"
   ]
  },
  {
   "cell_type": "code",
   "execution_count": 78,
   "id": "954b56c6-3f6c-4b47-9ec5-4f4c5dadbaa9",
   "metadata": {},
   "outputs": [
    {
     "data": {
      "text/plain": [
       "1.0761904761904764"
      ]
     },
     "execution_count": 78,
     "metadata": {},
     "output_type": "execute_result"
    }
   ],
   "source": [
    "sum(abs(df['lose']))/len(y)"
   ]
  },
  {
   "cell_type": "code",
   "execution_count": 79,
   "id": "f6d38566-5027-4127-a321-3532380d8bc8",
   "metadata": {},
   "outputs": [
    {
     "data": {
      "text/plain": [
       "1.4507936507936516"
      ]
     },
     "execution_count": 79,
     "metadata": {},
     "output_type": "execute_result"
    }
   ],
   "source": [
    "sum(abs(df['lose']**2))/len(y)"
   ]
  },
  {
   "cell_type": "code",
   "execution_count": 80,
   "id": "d45cfd99-df26-4504-9b86-dd8867f82123",
   "metadata": {},
   "outputs": [
    {
     "data": {
      "text/plain": [
       "0.8217454900048756"
      ]
     },
     "execution_count": 80,
     "metadata": {},
     "output_type": "execute_result"
    }
   ],
   "source": [
    "model.score(x,y)"
   ]
  },
  {
   "cell_type": "code",
   "execution_count": 81,
   "id": "1c926fe5-10ab-4462-aff2-173f41026c26",
   "metadata": {},
   "outputs": [],
   "source": [
    "from sklearn.metrics import r2_score"
   ]
  },
  {
   "cell_type": "code",
   "execution_count": 83,
   "id": "3ac8bd1c-1a1e-431b-8167-db7d34800ec0",
   "metadata": {},
   "outputs": [
    {
     "data": {
      "text/plain": [
       "0.8217454900048756"
      ]
     },
     "execution_count": 83,
     "metadata": {},
     "output_type": "execute_result"
    }
   ],
   "source": [
    "r2_score(y,model.predict(x))   #r2 score shortcut"
   ]
  },
  {
   "cell_type": "code",
   "execution_count": null,
   "id": "b41035cc-433f-4cba-a841-62d7e767ea3f",
   "metadata": {},
   "outputs": [],
   "source": []
  }
 ],
 "metadata": {
  "kernelspec": {
   "display_name": "Python 3 (ipykernel)",
   "language": "python",
   "name": "python3"
  },
  "language_info": {
   "codemirror_mode": {
    "name": "ipython",
    "version": 3
   },
   "file_extension": ".py",
   "mimetype": "text/x-python",
   "name": "python",
   "nbconvert_exporter": "python",
   "pygments_lexer": "ipython3",
   "version": "3.12.7"
  },
  "panel-cell-order": [
   "a6acab7f-9102-4b6d-bb11-ff886c49e68e"
  ]
 },
 "nbformat": 4,
 "nbformat_minor": 5
}
